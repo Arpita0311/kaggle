{
 "cells": [
  {
   "cell_type": "code",
   "execution_count": 1,
   "metadata": {
    "_cell_guid": "b1076dfc-b9ad-4769-8c92-a6c4dae69d19",
    "_uuid": "8f2839f25d086af736a60e9eeb907d3b93b6e0e5"
   },
   "outputs": [
    {
     "name": "stdout",
     "output_type": "stream",
     "text": [
      "/kaggle/input/test.csv\n",
      "/kaggle/input/train.csv\n",
      "/kaggle/input/gender_submission.csv\n"
     ]
    }
   ],
   "source": [
    "# This Python 3 environment comes with many helpful analytics libraries installed\n",
    "# It is defined by the kaggle/python docker image: https://github.com/kaggle/docker-python\n",
    "# For example, here's several helpful packages to load in \n",
    "\n",
    "import numpy as np # linear algebra\n",
    "import pandas as pd # data processing, CSV file I/O (e.g. pd.read_csv)\n",
    "\n",
    "# Input data files are available in the \"../input/\" directory.\n",
    "# For example, running this (by clicking run or pressing Shift+Enter) will list all files under the input directory\n",
    "\n",
    "import os\n",
    "for dirname, _, filenames in os.walk('/kaggle/input'):\n",
    "    for filename in filenames:\n",
    "        print(os.path.join(dirname, filename))\n",
    "\n",
    "# Any results you write to the current directory are saved as output."
   ]
  },
  {
   "cell_type": "code",
   "execution_count": 2,
   "metadata": {
    "_cell_guid": "79c7e3d0-c299-4dcb-8224-4455121ee9b0",
    "_uuid": "d629ff2d2480ee46fbb7e2d37f6b5fab8052498a"
   },
   "outputs": [],
   "source": [
    "# get the imports\n",
    "import pandas as pd\n",
    "import numpy as np\n",
    "import seaborn as sns\n",
    "import matplotlib.pyplot as plt\n",
    "import warnings\n",
    "from sklearn.preprocessing import StandardScaler\n",
    "warnings.filterwarnings('ignore')\n",
    "%matplotlib inline"
   ]
  },
  {
   "cell_type": "markdown",
   "metadata": {},
   "source": [
    "**Data Loading**"
   ]
  },
  {
   "cell_type": "code",
   "execution_count": 3,
   "metadata": {},
   "outputs": [],
   "source": [
    "#loading the dataframes with input data\n",
    "# training data\n",
    "input_train = pd.read_csv('/kaggle/input/train.csv')\n",
    "# test data\n",
    "input_test = pd.read_csv('/kaggle/input/test.csv')"
   ]
  },
  {
   "cell_type": "markdown",
   "metadata": {},
   "source": [
    "**Data Analysis**"
   ]
  },
  {
   "cell_type": "code",
   "execution_count": 4,
   "metadata": {},
   "outputs": [
    {
     "data": {
      "text/html": [
       "<div>\n",
       "<style scoped>\n",
       "    .dataframe tbody tr th:only-of-type {\n",
       "        vertical-align: middle;\n",
       "    }\n",
       "\n",
       "    .dataframe tbody tr th {\n",
       "        vertical-align: top;\n",
       "    }\n",
       "\n",
       "    .dataframe thead th {\n",
       "        text-align: right;\n",
       "    }\n",
       "</style>\n",
       "<table border=\"1\" class=\"dataframe\">\n",
       "  <thead>\n",
       "    <tr style=\"text-align: right;\">\n",
       "      <th></th>\n",
       "      <th>PassengerId</th>\n",
       "      <th>Survived</th>\n",
       "      <th>Pclass</th>\n",
       "      <th>Name</th>\n",
       "      <th>Sex</th>\n",
       "      <th>Age</th>\n",
       "      <th>SibSp</th>\n",
       "      <th>Parch</th>\n",
       "      <th>Ticket</th>\n",
       "      <th>Fare</th>\n",
       "      <th>Cabin</th>\n",
       "      <th>Embarked</th>\n",
       "    </tr>\n",
       "  </thead>\n",
       "  <tbody>\n",
       "    <tr>\n",
       "      <th>0</th>\n",
       "      <td>1</td>\n",
       "      <td>0</td>\n",
       "      <td>3</td>\n",
       "      <td>Braund, Mr. Owen Harris</td>\n",
       "      <td>male</td>\n",
       "      <td>22.0</td>\n",
       "      <td>1</td>\n",
       "      <td>0</td>\n",
       "      <td>A/5 21171</td>\n",
       "      <td>7.2500</td>\n",
       "      <td>NaN</td>\n",
       "      <td>S</td>\n",
       "    </tr>\n",
       "    <tr>\n",
       "      <th>1</th>\n",
       "      <td>2</td>\n",
       "      <td>1</td>\n",
       "      <td>1</td>\n",
       "      <td>Cumings, Mrs. John Bradley (Florence Briggs Th...</td>\n",
       "      <td>female</td>\n",
       "      <td>38.0</td>\n",
       "      <td>1</td>\n",
       "      <td>0</td>\n",
       "      <td>PC 17599</td>\n",
       "      <td>71.2833</td>\n",
       "      <td>C85</td>\n",
       "      <td>C</td>\n",
       "    </tr>\n",
       "    <tr>\n",
       "      <th>2</th>\n",
       "      <td>3</td>\n",
       "      <td>1</td>\n",
       "      <td>3</td>\n",
       "      <td>Heikkinen, Miss. Laina</td>\n",
       "      <td>female</td>\n",
       "      <td>26.0</td>\n",
       "      <td>0</td>\n",
       "      <td>0</td>\n",
       "      <td>STON/O2. 3101282</td>\n",
       "      <td>7.9250</td>\n",
       "      <td>NaN</td>\n",
       "      <td>S</td>\n",
       "    </tr>\n",
       "    <tr>\n",
       "      <th>3</th>\n",
       "      <td>4</td>\n",
       "      <td>1</td>\n",
       "      <td>1</td>\n",
       "      <td>Futrelle, Mrs. Jacques Heath (Lily May Peel)</td>\n",
       "      <td>female</td>\n",
       "      <td>35.0</td>\n",
       "      <td>1</td>\n",
       "      <td>0</td>\n",
       "      <td>113803</td>\n",
       "      <td>53.1000</td>\n",
       "      <td>C123</td>\n",
       "      <td>S</td>\n",
       "    </tr>\n",
       "    <tr>\n",
       "      <th>4</th>\n",
       "      <td>5</td>\n",
       "      <td>0</td>\n",
       "      <td>3</td>\n",
       "      <td>Allen, Mr. William Henry</td>\n",
       "      <td>male</td>\n",
       "      <td>35.0</td>\n",
       "      <td>0</td>\n",
       "      <td>0</td>\n",
       "      <td>373450</td>\n",
       "      <td>8.0500</td>\n",
       "      <td>NaN</td>\n",
       "      <td>S</td>\n",
       "    </tr>\n",
       "  </tbody>\n",
       "</table>\n",
       "</div>"
      ],
      "text/plain": [
       "   PassengerId  Survived  Pclass  \\\n",
       "0            1         0       3   \n",
       "1            2         1       1   \n",
       "2            3         1       3   \n",
       "3            4         1       1   \n",
       "4            5         0       3   \n",
       "\n",
       "                                                Name     Sex   Age  SibSp  \\\n",
       "0                            Braund, Mr. Owen Harris    male  22.0      1   \n",
       "1  Cumings, Mrs. John Bradley (Florence Briggs Th...  female  38.0      1   \n",
       "2                             Heikkinen, Miss. Laina  female  26.0      0   \n",
       "3       Futrelle, Mrs. Jacques Heath (Lily May Peel)  female  35.0      1   \n",
       "4                           Allen, Mr. William Henry    male  35.0      0   \n",
       "\n",
       "   Parch            Ticket     Fare Cabin Embarked  \n",
       "0      0         A/5 21171   7.2500   NaN        S  \n",
       "1      0          PC 17599  71.2833   C85        C  \n",
       "2      0  STON/O2. 3101282   7.9250   NaN        S  \n",
       "3      0            113803  53.1000  C123        S  \n",
       "4      0            373450   8.0500   NaN        S  "
      ]
     },
     "execution_count": 4,
     "metadata": {},
     "output_type": "execute_result"
    }
   ],
   "source": [
    "input_test.head()\n",
    "input_train.head()"
   ]
  },
  {
   "cell_type": "code",
   "execution_count": 5,
   "metadata": {},
   "outputs": [
    {
     "data": {
      "text/plain": [
       "PassengerId      int64\n",
       "Pclass           int64\n",
       "Name            object\n",
       "Sex             object\n",
       "Age            float64\n",
       "SibSp            int64\n",
       "Parch            int64\n",
       "Ticket          object\n",
       "Fare           float64\n",
       "Cabin           object\n",
       "Embarked        object\n",
       "dtype: object"
      ]
     },
     "execution_count": 5,
     "metadata": {},
     "output_type": "execute_result"
    }
   ],
   "source": [
    "input_train.dtypes\n",
    "input_test.dtypes"
   ]
  },
  {
   "cell_type": "code",
   "execution_count": 6,
   "metadata": {},
   "outputs": [
    {
     "data": {
      "text/plain": [
       "PassengerId      0\n",
       "Pclass           0\n",
       "Name             0\n",
       "Sex              0\n",
       "Age             86\n",
       "SibSp            0\n",
       "Parch            0\n",
       "Ticket           0\n",
       "Fare             1\n",
       "Cabin          327\n",
       "Embarked         0\n",
       "dtype: int64"
      ]
     },
     "execution_count": 6,
     "metadata": {},
     "output_type": "execute_result"
    }
   ],
   "source": [
    "input_train.isnull().sum()\n",
    "input_test.isnull().sum()"
   ]
  },
  {
   "cell_type": "markdown",
   "metadata": {},
   "source": [
    "Dataset observations:\n",
    "* There are Null values in the dataset for columns Age, Cabin and Embarked\n",
    "* Columns passengerId and Ticket donot seem to affect the survival rate predictions"
   ]
  },
  {
   "cell_type": "markdown",
   "metadata": {},
   "source": [
    "**Data Cleansing**"
   ]
  },
  {
   "cell_type": "code",
   "execution_count": 7,
   "metadata": {},
   "outputs": [],
   "source": [
    "# Replacing NaN values with N, when cabin is unavailable\n",
    "input_train.Cabin.fillna(\"N\", inplace=True)\n",
    "input_test.Cabin.fillna(\"N\", inplace=True)\n",
    "# the number of missing values for column Embarked is 2, drop these observations from the dataset\n",
    "input_train.drop( input_train[ input_train['Embarked'].isnull() ].index , inplace=True)\n",
    "# Replace age null values by median age for the class\n",
    "grouped_df_train = input_train.groupby(['Sex','Pclass']) \n",
    "grouped_df_test = input_test.groupby(['Sex', 'Pclass'])\n",
    "grouped_df_train.Age.median()\n",
    "grouped_df_test.Age.median()\n",
    "input_train.Age = grouped_df_train.Age.apply(lambda x: x.fillna(x.median()))\n",
    "input_test.Age = grouped_df_test.Age.apply(lambda x: x.fillna(x.median()))\n",
    "# sanity check on null values in the dataset\n",
    "#input_train.isnull().sum()"
   ]
  },
  {
   "cell_type": "markdown",
   "metadata": {},
   "source": [
    "**Feature Engineering**"
   ]
  },
  {
   "cell_type": "code",
   "execution_count": 8,
   "metadata": {},
   "outputs": [
    {
     "name": "stdout",
     "output_type": "stream",
     "text": [
      "0      Mr\n",
      "1     Mrs\n",
      "2    Miss\n",
      "3     Mrs\n",
      "4      Mr\n",
      "Name: Title, dtype: object\n",
      "0     Mr\n",
      "1    Mrs\n",
      "2     Mr\n",
      "3     Mr\n",
      "4    Mrs\n",
      "Name: Title, dtype: object\n"
     ]
    }
   ],
   "source": [
    "# exploring the 'Name' column to create categorical variables\n",
    "#print(input_train['Name'].head())\n",
    "# as seen, Name variable has a title associated with it, this can give information of the passengers and should be used as a feature\n",
    "input_train['Title'] = [i.split(\",\")[1].split(\".\")[0].strip() for i in input_train['Name']]\n",
    "print(input_train['Title'].head())\n",
    "input_test['Title'] = [i.split(\",\")[1].split(\".\")[0].strip() for i in input_test['Name']]\n",
    "print(input_test['Title'].head())"
   ]
  },
  {
   "cell_type": "code",
   "execution_count": 9,
   "metadata": {},
   "outputs": [
    {
     "data": {
      "image/png": "[encoded data removed]",
      "text/plain": [
       "<Figure size 432x288 with 1 Axes>"
      ]
     },
     "metadata": {
      "needs_background": "light"
     },
     "output_type": "display_data"
    }
   ],
   "source": [
    "# plotting this new feature\n",
    "title_plot = sns.countplot(x=\"Title\",data=input_train)\n",
    "title_plot = plt.setp(title_plot.get_xticklabels(), rotation = 90)"
   ]
  },
  {
   "cell_type": "markdown",
   "metadata": {},
   "source": [
    "As observed above, the most frequent data values for new feature title are Mr, Mrs, Miss, Master. The other titles occur in-frequently and can be binned together into one categorical variable type. The following steps are followed for categorical binning of the Title column:\n",
    "* Dictionary map with values as title and keys as numbers\n",
    "* Title value 'other' assigned to infrequent values of title column"
   ]
  },
  {
   "cell_type": "code",
   "execution_count": 10,
   "metadata": {},
   "outputs": [],
   "source": [
    "# binning the title values for test and train data\n",
    "# o -> young male, 1 -> young female, 1 -> adult male, 2 -> adult female, 3 -> rare title\n",
    "input_train['Title'] = input_train['Title'].replace(['Don','Rev', 'Dr', 'Major', 'Col', 'Capt', 'the Countess','Jonkheer'], 'Other')\n",
    "input_train['Title'] = input_train['Title'].map({\"Master\":0, \"Miss\":1, \"Mme\":1, 'Ms':1, \"Mlle\":1, \"Mrs\":3, \"Mr\":2, 'Lady':3,'Sir':2, \"Other\":3})\n",
    "\n",
    "input_test['Title'] = input_test['Title'].replace(['Don','Rev', 'Dr', 'Major', 'Col', 'Capt', 'the Countess','Jonkheer'], 'Other')\n",
    "input_test[\"Title\"] = input_test[\"Title\"].map({\"Master\":0, \"Miss\":1, \"Ms\" : 1 , \"Mme\":1, \"Mlle\":1, \"Mrs\":3, \"Mr\":2, 'Lady':3,'Sir':2, \"Other\":2})\n"
   ]
  },
  {
   "cell_type": "code",
   "execution_count": 11,
   "metadata": {},
   "outputs": [
    {
     "data": {
      "image/png": "[encoded data removed]",
      "text/plain": [
       "<Figure size 432x288 with 1 Axes>"
      ]
     },
     "metadata": {
      "needs_background": "light"
     },
     "output_type": "display_data"
    }
   ],
   "source": [
    "# Distribution of the title feature\n",
    "title_plot = sns.countplot(x=\"Title\",data=input_train)\n",
    "title_plot = plt.setp(title_plot.get_xticklabels(), rotation = 90)\n",
    "#print(input_train['Title'].count())\n",
    "\n",
    "title_plot = sns.countplot(x=\"Title\",data=input_test)\n",
    "title_plot = plt.setp(title_plot.get_xticklabels(), rotation = 90)\n",
    "#print(input_test['Title'].count())"
   ]
  },
  {
   "cell_type": "code",
   "execution_count": 12,
   "metadata": {},
   "outputs": [],
   "source": [
    "# Two features -> SibSp, which denotes sibling and Parch -> which denotes parents/children can be combined to form a feature 'family'\n",
    "# formula -> sibSp+Parch+1(individual)\n",
    "input_train['Family'] = input_train['SibSp'] + input_train['Parch'] + 1\n",
    "input_test['Family'] = input_test['SibSp'] + input_test['Parch'] + 1\n"
   ]
  },
  {
   "cell_type": "markdown",
   "metadata": {},
   "source": [
    "**Data Visualization**"
   ]
  },
  {
   "cell_type": "code",
   "execution_count": 13,
   "metadata": {},
   "outputs": [
    {
     "data": {
      "text/plain": [
       "<matplotlib.axes._subplots.AxesSubplot at 0x7f326dbe0c88>"
      ]
     },
     "execution_count": 13,
     "metadata": {},
     "output_type": "execute_result"
    },
    {
     "data": {
      "image/png": "[encoded data removed]",
      "text/plain": [
       "<Figure size 720x360 with 2 Axes>"
      ]
     },
     "metadata": {
      "needs_background": "light"
     },
     "output_type": "display_data"
    }
   ],
   "source": [
    "# visualizing the correlation between all the input variables and the probability of survival\n",
    "input_train['Survived_Dead'] = input_train['Survived'].apply(lambda x : 'Survived' if x == 1 else 'Dead')\n",
    "plt.figure(figsize= (10,5))\n",
    "sns.heatmap(input_train.corr(),annot=True, linewidth = 0.5, cmap='Reds')"
   ]
  },
  {
   "cell_type": "markdown",
   "metadata": {},
   "source": [
    "As seen above, passenger_id has low correlation with survival and can be dropped from the features. Similarly, object datatype Ticket isnt a useful feature for modeling. As 'title' column is extracted from 'name'. This column can be dropped from the input to the model"
   ]
  },
  {
   "cell_type": "code",
   "execution_count": 14,
   "metadata": {},
   "outputs": [],
   "source": [
    "input_train.drop([ 'Ticket', 'Name'], axis=1, inplace = True)\n",
    "input_test.drop(['Ticket', 'Name'], axis=1, inplace = True)"
   ]
  },
  {
   "cell_type": "code",
   "execution_count": 15,
   "metadata": {},
   "outputs": [
    {
     "data": {
      "text/plain": [
       "<matplotlib.axes._subplots.AxesSubplot at 0x7f326fd3fcc0>"
      ]
     },
     "execution_count": 15,
     "metadata": {},
     "output_type": "execute_result"
    },
    {
     "data": {
      "image/png": "[encoded data removed]",
      "text/plain": [
       "<Figure size 432x288 with 1 Axes>"
      ]
     },
     "metadata": {
      "needs_background": "light"
     },
     "output_type": "display_data"
    }
   ],
   "source": [
    "# Visualizing pclass,sex, embarked columns with survival\n",
    "sns.countplot('Survived_Dead', data = input_train)"
   ]
  },
  {
   "cell_type": "code",
   "execution_count": 16,
   "metadata": {},
   "outputs": [
    {
     "data": {
      "text/plain": [
       "<matplotlib.axes._subplots.AxesSubplot at 0x7f3265387f28>"
      ]
     },
     "execution_count": 16,
     "metadata": {},
     "output_type": "execute_result"
    },
    {
     "data": {
      "image/png": "[encoded data removed]",
      "text/plain": [
       "<Figure size 432x288 with 1 Axes>"
      ]
     },
     "metadata": {
      "needs_background": "light"
     },
     "output_type": "display_data"
    }
   ],
   "source": [
    "sns.countplot('Survived_Dead', hue = 'Sex', data = input_train)"
   ]
  },
  {
   "cell_type": "code",
   "execution_count": 17,
   "metadata": {},
   "outputs": [
    {
     "data": {
      "text/plain": [
       "<matplotlib.axes._subplots.AxesSubplot at 0x7f326534f518>"
      ]
     },
     "execution_count": 17,
     "metadata": {},
     "output_type": "execute_result"
    },
    {
     "data": {
      "image/png": "[encoded data removed]",
      "text/plain": [
       "<Figure size 432x288 with 1 Axes>"
      ]
     },
     "metadata": {
      "needs_background": "light"
     },
     "output_type": "display_data"
    }
   ],
   "source": [
    "sns.countplot('Survived_Dead', hue = 'Pclass', data = input_train)"
   ]
  },
  {
   "cell_type": "code",
   "execution_count": 18,
   "metadata": {},
   "outputs": [
    {
     "data": {
      "text/plain": [
       "<matplotlib.axes._subplots.AxesSubplot at 0x7f32652d3080>"
      ]
     },
     "execution_count": 18,
     "metadata": {},
     "output_type": "execute_result"
    },
    {
     "data": {
      "image/png": "[encoded data removed]",
      "text/plain": [
       "<Figure size 432x288 with 1 Axes>"
      ]
     },
     "metadata": {
      "needs_background": "light"
     },
     "output_type": "display_data"
    }
   ],
   "source": [
    "sns.barplot(x = 'Pclass', y = 'Fare', data = input_train)"
   ]
  },
  {
   "cell_type": "code",
   "execution_count": 19,
   "metadata": {},
   "outputs": [
    {
     "data": {
      "text/plain": [
       "<matplotlib.axes._subplots.AxesSubplot at 0x7f326528cf98>"
      ]
     },
     "execution_count": 19,
     "metadata": {},
     "output_type": "execute_result"
    },
    {
     "data": {
      "image/png": "[encoded data removed]",
      "text/plain": [
       "<Figure size 432x288 with 1 Axes>"
      ]
     },
     "metadata": {
      "needs_background": "light"
     },
     "output_type": "display_data"
    }
   ],
   "source": [
    "sns.countplot('Survived_Dead', hue = 'Embarked', data = input_train)"
   ]
  },
  {
   "cell_type": "code",
   "execution_count": 20,
   "metadata": {},
   "outputs": [
    {
     "data": {
      "text/plain": [
       "<matplotlib.axes._subplots.AxesSubplot at 0x7f3265283e10>"
      ]
     },
     "execution_count": 20,
     "metadata": {},
     "output_type": "execute_result"
    },
    {
     "data": {
      "image/png": "[encoded data removed]",
      "text/plain": [
       "<Figure size 432x288 with 1 Axes>"
      ]
     },
     "metadata": {
      "needs_background": "light"
     },
     "output_type": "display_data"
    }
   ],
   "source": [
    "sns.countplot('Survived_Dead', hue = 'Title', data = input_train)"
   ]
  },
  {
   "cell_type": "markdown",
   "metadata": {},
   "source": [
    "**Outlier detection**"
   ]
  },
  {
   "cell_type": "code",
   "execution_count": 21,
   "metadata": {},
   "outputs": [
    {
     "name": "stdout",
     "output_type": "stream",
     "text": [
      "     PassengerId  Survived  Pclass     Sex   Age  SibSp  Parch    Fare  \\\n",
      "27            28         0       1    male  19.0      3      2  263.00   \n",
      "88            89         1       1  female  23.0      3      2  263.00   \n",
      "159          160         0       3    male  25.0      8      2   69.55   \n",
      "180          181         0       3  female  21.5      8      2   69.55   \n",
      "201          202         0       3    male  25.0      8      2   69.55   \n",
      "\n",
      "           Cabin Embarked  Title  Family Survived_Dead  \n",
      "27   C23 C25 C27        S      2       6          Dead  \n",
      "88   C23 C25 C27        S      1       6      Survived  \n",
      "159            N        S      0      11          Dead  \n",
      "180            N        S      1      11          Dead  \n",
      "201            N        S      2      11          Dead   15\n"
     ]
    }
   ],
   "source": [
    "# detecting the outliers in the numeric variables -> Parch, SibSp, Fare, Age\n",
    "#sns.boxplot(x= input_train['Age'])\n",
    "from collections import Counter\n",
    "def delete_outliers(input_df, feature):\n",
    "    Q1 = np.percentile(input_df[feature],25)\n",
    "    Q3 = np.percentile(input_df[feature],75)\n",
    "    IQR = Q3 - Q1\n",
    "    step = 1.5*IQR\n",
    "    indexes = input_df[(input_df[feature] < Q1 - step) | (input_df[feature] > Q3 + step )].index\n",
    "    return indexes\n",
    "\n",
    "index_list = []\n",
    "for feature in ['Parch', 'SibSp', 'Fare', 'Age']:\n",
    "    index_list.extend(delete_outliers(input_train, feature))\n",
    "outliers = Counter(index_list)        \n",
    "outliers_remove = list( k for k, v in outliers.items() if v > 2 )\n",
    "print(input_train.loc[outliers_remove].head(), len(outliers_remove))\n"
   ]
  },
  {
   "cell_type": "markdown",
   "metadata": {},
   "source": [
    "As observed above, the outliers donot seem inconsistent, caused by a data entry issue\n",
    "    "
   ]
  },
  {
   "cell_type": "markdown",
   "metadata": {},
   "source": [
    "**Encoding features**"
   ]
  },
  {
   "cell_type": "code",
   "execution_count": 22,
   "metadata": {},
   "outputs": [
    {
     "name": "stdout",
     "output_type": "stream",
     "text": [
      "<class 'pandas.core.frame.DataFrame'>\n",
      "Int64Index: 889 entries, 0 to 890\n",
      "Data columns (total 13 columns):\n",
      "PassengerId      889 non-null int64\n",
      "Survived         889 non-null int64\n",
      "Pclass           889 non-null int64\n",
      "Sex              889 non-null object\n",
      "Age              889 non-null float64\n",
      "SibSp            889 non-null int64\n",
      "Parch            889 non-null int64\n",
      "Fare             889 non-null float64\n",
      "Cabin            889 non-null object\n",
      "Embarked         889 non-null object\n",
      "Title            889 non-null int64\n",
      "Family           889 non-null int64\n",
      "Survived_Dead    889 non-null object\n",
      "dtypes: float64(2), int64(7), object(4)\n",
      "memory usage: 137.2+ KB\n"
     ]
    }
   ],
   "source": [
    "input_train.info()"
   ]
  },
  {
   "cell_type": "markdown",
   "metadata": {},
   "source": [
    "As seen above, the iput data has the following:\n",
    "categorical variables:\n",
    "    * Sex\n",
    "    * Embarked\n",
    "Number encoded variables:\n",
    "    * Pclass\n",
    "    * Title\n",
    "Numerical variables:\n",
    "    * Age\n",
    "    * Fare\n",
    "Other variables:\n",
    "    * Family\n",
    "    * Cabin\n",
    "\n",
    "Scaling and transfromations are performed on the numerical and other variables, prior to the modeling excercise \n"
   ]
  },
  {
   "cell_type": "code",
   "execution_count": 23,
   "metadata": {},
   "outputs": [],
   "source": [
    "# Transforming categoricals\n",
    "sex_map = {'male': 0, 'female':1}\n",
    "input_train['sex_dummy'] = input_train['Sex'].map(sex_map)\n",
    "\n",
    "sex_map = {'male': 0, 'female':1}\n",
    "input_test['sex_dummy'] = input_test['Sex'].map(sex_map)\n",
    "\n",
    "embarked_map = {'Q':0, 'C': 1, 'S': 2 }\n",
    "input_train['embarked_dummy'] = input_train['Embarked'].map(embarked_map)\n",
    "\n",
    "embarked_map = {'Q':0, 'C': 1, 'S': 2 }\n",
    "input_test['embarked_dummy'] = input_test['Embarked'].map(embarked_map)\n",
    "\n",
    "\n",
    "input_train.drop(['Embarked', 'Sex'], axis=1, inplace = True)\n",
    "input_test.drop(['Embarked', 'Sex'], axis=1, inplace = True)"
   ]
  },
  {
   "cell_type": "code",
   "execution_count": 24,
   "metadata": {},
   "outputs": [
    {
     "name": "stdout",
     "output_type": "stream",
     "text": [
      "<class 'pandas.core.frame.DataFrame'>\n",
      "Int64Index: 889 entries, 0 to 890\n",
      "Data columns (total 13 columns):\n",
      "PassengerId       889 non-null int64\n",
      "Survived          889 non-null int64\n",
      "Pclass            889 non-null int64\n",
      "Age               889 non-null float64\n",
      "SibSp             889 non-null int64\n",
      "Parch             889 non-null int64\n",
      "Fare              889 non-null float64\n",
      "Cabin             889 non-null object\n",
      "Title             889 non-null int64\n",
      "Family            889 non-null int64\n",
      "Survived_Dead     889 non-null object\n",
      "sex_dummy         889 non-null int64\n",
      "embarked_dummy    889 non-null int64\n",
      "dtypes: float64(2), int64(9), object(2)\n",
      "memory usage: 137.2+ KB\n"
     ]
    }
   ],
   "source": [
    "# Transforming numerical variables\n",
    "input_train.info()"
   ]
  },
  {
   "cell_type": "code",
   "execution_count": 25,
   "metadata": {},
   "outputs": [],
   "source": [
    "input_train[\"has_cabin\"] = [0 if i == 'N'else 1 for i in input_train.Cabin]\n",
    "input_test[\"has_cabin\"] = [0 if i == 'N'else 1 for i in input_test.Cabin]\n",
    "\n",
    "input_train.drop(['Cabin', 'Survived_Dead'], axis=1, inplace = True)\n",
    "input_test.drop(['Cabin'], axis=1, inplace = True)\n"
   ]
  },
  {
   "cell_type": "markdown",
   "metadata": {},
   "source": [
    "**Test/Train split  of the input**"
   ]
  },
  {
   "cell_type": "code",
   "execution_count": 26,
   "metadata": {},
   "outputs": [],
   "source": [
    "from sklearn.preprocessing import StandardScaler\n",
    "y_train = input_train['Survived']\n",
    "input_train.drop(['Survived'], axis=1, inplace = True)\n",
    "X_train = input_train\n",
    "X_test = input_test[input_train.columns]\n",
    "# replacing the fare in test set witht the mean value \n",
    "X_test['Fare'].fillna(X_test['Fare'].mean(), inplace=True)\n",
    "# replacing the Nan value with the most frequent label from the title column and changing the type to int\n",
    "X_test['Title'] = X_test['Title'].fillna(0.0).astype(int)\n",
    "X_test2 = X_test.copy()\n",
    "X_test.drop(['PassengerId'], axis=1, inplace = True)\n",
    "X_train.drop(['PassengerId'], axis=1, inplace = True)\n",
    "# scaling the input to the models\n",
    "sc = StandardScaler()\n",
    "X_train = sc.fit_transform(X_train)\n",
    "X_test = sc.transform(X_test)\n"
   ]
  },
  {
   "cell_type": "markdown",
   "metadata": {},
   "source": [
    "**Models,Predictions and Accuracy**"
   ]
  },
  {
   "cell_type": "markdown",
   "metadata": {},
   "source": [
    "The following algorithms are tested\n",
    "    * RandomForestClassifier\n",
    "    * LogisticRegression\n",
    "    * SVC with linear kernal\n",
    "    * GradientBoostingClassifier\n",
    "    * Gausian Naive bayes \n",
    "    * Knn\n",
    "    \n",
    "Below are the steps followed:\n",
    "1) Experiment with accurancy scores using the above mentioned models\n",
    "2) Use the best accuracy model and use k-fold validation and gridcv to improve the generalizing ability of the algorithm\n",
    "\n"
   ]
  },
  {
   "cell_type": "code",
   "execution_count": 27,
   "metadata": {},
   "outputs": [],
   "source": [
    "# imports for machine learning models\n",
    "from sklearn.neighbors import KNeighborsClassifier\n",
    "from sklearn.linear_model import LogisticRegression\n",
    "from sklearn.svm import SVC\n",
    "from sklearn.naive_bayes import GaussianNB\n",
    "from sklearn.ensemble import RandomForestClassifier\n",
    "from sklearn.metrics import accuracy_score, log_loss\n",
    "\n",
    "# initialize dictionary to record scores\n",
    "accuracy_scores = {}"
   ]
  },
  {
   "cell_type": "code",
   "execution_count": 28,
   "metadata": {},
   "outputs": [
    {
     "name": "stdout",
     "output_type": "stream",
     "text": [
      "Random Forest Classifier score = 0.9752530933633295\n",
      "************************************************\n",
      "Logistic Regression score = 0.813273340832396\n",
      "************************************************\n",
      "SVC radial basis score = 0.8447694038245219\n",
      "************************************************\n",
      "KNeighbors Classifier score = 0.8728908886389202\n",
      "************************************************\n",
      "GaussianNB score = 0.7997750281214848\n",
      "************************************************\n"
     ]
    }
   ],
   "source": [
    "# Applying machine learning algorithms to the training dataset and recording the scores obtained\n",
    "rfc = RandomForestClassifier(random_state = 0).fit(X_train, y_train)\n",
    "accuracy_scores['RandomForestClassifier'] = rfc.score(X_train, y_train)\n",
    "print('Random Forest Classifier score = {0}'.format(rfc.score(X_train, y_train)))\n",
    "print('************************************************')\n",
    "lr = LogisticRegression(random_state = 0).fit(X_train, y_train)\n",
    "accuracy_scores['LogisticRegression'] = lr.score(X_train, y_train)\n",
    "print('Logistic Regression score = {0}'.format(lr.score(X_train, y_train)))\n",
    "print('************************************************')\n",
    "svc = SVC(random_state = 0, kernel = 'rbf').fit(X_train, y_train)\n",
    "accuracy_scores['SVC_radial_basis'] = svc.score(X_train, y_train)\n",
    "print('SVC radial basis score = {0}'.format(svc.score(X_train, y_train)))\n",
    "print('************************************************')\n",
    "knn = KNeighborsClassifier(n_neighbors = 3).fit(X_train, y_train)\n",
    "accuracy_scores['KNeighborsClassifier'] = knn.score(X_train, y_train)\n",
    "print('KNeighbors Classifier score = {0}'.format(knn.score(X_train, y_train)))\n",
    "print('************************************************')\n",
    "gnb = GaussianNB().fit(X_train, y_train)\n",
    "accuracy_scores['GaussianNB'] = gnb.score(X_train, y_train)\n",
    "print('GaussianNB score = {0}'.format(gnb.score(X_train, y_train)))\n",
    "print('************************************************')"
   ]
  },
  {
   "cell_type": "markdown",
   "metadata": {},
   "source": [
    "As observed from the accuracy scores above, the highest accuracy on training data is obtained using the Random Forest Classifier.However, the model might have overfit the training data. To avoid overfitting,in the next step, k-fold validation and gridcv is used to improve the generalizing capability of the model. "
   ]
  },
  {
   "cell_type": "markdown",
   "metadata": {},
   "source": [
    "**K-fold Validation**"
   ]
  },
  {
   "cell_type": "code",
   "execution_count": 29,
   "metadata": {},
   "outputs": [],
   "source": [
    "from sklearn.model_selection import GridSearchCV, StratifiedKFold, cross_val_score\n",
    "k_fold = StratifiedKFold(n_splits=3)"
   ]
  },
  {
   "cell_type": "markdown",
   "metadata": {},
   "source": [
    "**Hyperparameter tuning**\n",
    "\n",
    "The following steps are followed to test the tuning paramters for randomforest classifier:\n",
    "1) Random search is used to get the most optimised set of parameters \n",
    "2) Using the narrowed down parameters from randomsearch, grid search is executed to get an optimised algorithm"
   ]
  },
  {
   "cell_type": "code",
   "execution_count": 30,
   "metadata": {},
   "outputs": [
    {
     "name": "stdout",
     "output_type": "stream",
     "text": [
      "{'bootstrap': True, 'class_weight': None, 'criterion': 'gini', 'max_depth': None, 'max_features': 'auto', 'max_leaf_nodes': None, 'min_impurity_decrease': 0.0, 'min_impurity_split': None, 'min_samples_leaf': 1, 'min_samples_split': 2, 'min_weight_fraction_leaf': 0.0, 'n_estimators': 'warn', 'n_jobs': None, 'oob_score': False, 'random_state': 0, 'verbose': 0, 'warm_start': False}\n",
      "Fitting 3 folds for each of 100 candidates, totalling 300 fits\n"
     ]
    },
    {
     "name": "stderr",
     "output_type": "stream",
     "text": [
      "[Parallel(n_jobs=-1)]: Using backend LokyBackend with 4 concurrent workers.\n",
      "[Parallel(n_jobs=-1)]: Done  33 tasks      | elapsed:   25.1s\n",
      "[Parallel(n_jobs=-1)]: Done 154 tasks      | elapsed:  2.0min\n",
      "[Parallel(n_jobs=-1)]: Done 300 out of 300 | elapsed:  3.6min finished\n"
     ]
    },
    {
     "name": "stdout",
     "output_type": "stream",
     "text": [
      "Random Forest Classifier with random search best estimator:\n",
      "{'n_estimators': 894, 'min_samples_split': 10, 'min_samples_leaf': 2, 'max_features': 'sqrt', 'max_depth': 60, 'bootstrap': True}\n",
      "************************************************\n",
      "Random Forest Classifier with random search score = 0.8323959505061868\n"
     ]
    }
   ],
   "source": [
    "from sklearn.model_selection import RandomizedSearchCV\n",
    "\n",
    "# parameters in randomforest classifier\n",
    "rf = RandomForestClassifier(random_state = 0)\n",
    "print(rf.get_params())\n",
    "\n",
    "n_estimators = [int(x) for x in np.linspace(start = 10, stop = 2000, num = 10)]\n",
    "max_features = ['auto','sqrt']\n",
    "max_depth = [int(x) for x in np.linspace(10, 110, num = 11)]\n",
    "min_samples_split = [2, 5, 10]\n",
    "min_samples_leaf = [1, 2, 4]\n",
    "bootstrap = [True, False]\n",
    "\n",
    "# Create the random grid\n",
    "random_grid = {'n_estimators': n_estimators,\n",
    "               'max_features': max_features,\n",
    "               'max_depth': max_depth,\n",
    "               'min_samples_split': min_samples_split,\n",
    "               'min_samples_leaf': min_samples_leaf,\n",
    "               'bootstrap': bootstrap}\n",
    "\n",
    "rf_random = RandomizedSearchCV(estimator = rf, param_distributions = random_grid, n_iter = 100, cv = k_fold, verbose=2, random_state=0, n_jobs = -1)\n",
    "\n",
    "rf_random.fit(X_train, y_train)\n",
    "\n",
    "print('Random Forest Classifier with random search best estimator:')\n",
    "print(rf_random.best_params_)\n",
    "print('************************************************')\n",
    "print('Random Forest Classifier with random search score = {0}'.format(rf_random.best_score_))\n"
   ]
  },
  {
   "cell_type": "markdown",
   "metadata": {},
   "source": [
    "RandomForestClassifier(bootstrap=True, class_weight=None, criterion='gini',\n",
    "                       max_depth=60, max_features='sqrt', max_leaf_nodes=None,\n",
    "                       min_impurity_decrease=0.0, min_impurity_split=None,\n",
    "                       min_samples_leaf=2, min_samples_split=10,\n",
    "                       min_weight_fraction_leaf=0.0, n_estimators=1000,\n",
    "                       n_jobs=None, oob_score=False, random_state=0, verbose=0,\n",
    "                       warm_start=False)"
   ]
  },
  {
   "cell_type": "markdown",
   "metadata": {},
   "source": [
    "Using the best estimator parameters from above, gridsearch paramter dictionary is constructed."
   ]
  },
  {
   "cell_type": "code",
   "execution_count": 31,
   "metadata": {},
   "outputs": [
    {
     "name": "stdout",
     "output_type": "stream",
     "text": [
      "Fitting 3 folds for each of 162 candidates, totalling 486 fits\n"
     ]
    },
    {
     "name": "stderr",
     "output_type": "stream",
     "text": [
      "[Parallel(n_jobs=-1)]: Using backend LokyBackend with 4 concurrent workers.\n",
      "[Parallel(n_jobs=-1)]: Done  33 tasks      | elapsed:   25.2s\n",
      "[Parallel(n_jobs=-1)]: Done 154 tasks      | elapsed:  1.9min\n",
      "[Parallel(n_jobs=-1)]: Done 357 tasks      | elapsed:  4.3min\n",
      "[Parallel(n_jobs=-1)]: Done 486 out of 486 | elapsed:  5.9min finished\n"
     ]
    },
    {
     "name": "stdout",
     "output_type": "stream",
     "text": [
      "Random Forest Classifier with grid search best estimator:\n",
      "{'bootstrap': True, 'criterion': 'gini', 'max_depth': 50, 'max_features': 'sqrt', 'min_samples_leaf': 2, 'min_samples_split': 10, 'n_estimators': 800}\n",
      "************************************************\n",
      "Random Forest Classifier with grid search score = 0.8335208098987626\n"
     ]
    }
   ],
   "source": [
    "# creating a parameter grid\n",
    "param_grid = {\n",
    "    'bootstrap': [True],\n",
    "    'max_depth': [50, 60, 70, 80, 90, 100],\n",
    "    'max_features': ['sqrt'],\n",
    "    'min_samples_leaf': [2, 3, 4],\n",
    "    'min_samples_split': [8, 10, 12],\n",
    "    'n_estimators': [800, 1000, 1200],\n",
    "    'criterion' : ['gini']\n",
    "}\n",
    "\n",
    "grid_search = GridSearchCV(estimator = rf, param_grid = param_grid, \n",
    "                          cv = k_fold,  scoring=\"accuracy\", n_jobs = -1, verbose = 2)\n",
    "\n",
    "grid_search.fit(X_train, y_train)\n",
    "\n",
    "print('Random Forest Classifier with grid search best estimator:')\n",
    "print(grid_search.best_params_)\n",
    "print('************************************************')\n",
    "print('Random Forest Classifier with grid search score = {0}'.format(grid_search.best_score_))\n"
   ]
  },
  {
   "cell_type": "markdown",
   "metadata": {},
   "source": [
    "As observed above, the accuracy score of gridsearch with randomforestclassifier is slightly higher than the randomsearch with randomforestclassifier. Hence, the former approach is used for submission."
   ]
  },
  {
   "cell_type": "markdown",
   "metadata": {},
   "source": [
    "**Submission**"
   ]
  },
  {
   "cell_type": "code",
   "execution_count": 32,
   "metadata": {},
   "outputs": [],
   "source": [
    "# using the classifier above to predict survival rate and submitting the results\n",
    "y_pred = grid_search.predict(X_test)\n",
    "submission = pd.DataFrame({\n",
    "        \"PassengerId\": X_test2[\"PassengerId\"],\n",
    "        \"Survived\": y_pred\n",
    "    })\n",
    "\n",
    "submission.to_csv('submission.csv', index=False)"
   ]
  }
 ],
 "metadata": {
  "kernelspec": {
   "display_name": "Python 3",
   "language": "python",
   "name": "python3"
  },
  "language_info": {
   "codemirror_mode": {
    "name": "ipython",
    "version": 3
   },
   "file_extension": ".py",
   "mimetype": "text/x-python",
   "name": "python",
   "nbconvert_exporter": "python",
   "pygments_lexer": "ipython3",
   "version": "3.6.6"
  }
 },
 "nbformat": 4,
 "nbformat_minor": 1
}
